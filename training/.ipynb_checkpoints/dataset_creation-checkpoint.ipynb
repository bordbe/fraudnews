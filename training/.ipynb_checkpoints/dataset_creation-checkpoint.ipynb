{
 "cells": [
  {
   "cell_type": "markdown",
   "id": "62b6dae5",
   "metadata": {},
   "source": [
    "## Headlines Database"
   ]
  },
  {
   "cell_type": "code",
   "execution_count": 1,
   "id": "0cd741d0",
   "metadata": {},
   "outputs": [],
   "source": [
    "import requests\n",
    "from bs4 import BeautifulSoup\n",
    "from tqdm.notebook import tqdm\n",
    "import pandas as pd\n",
    "import itertools\n",
    "import re"
   ]
  },
  {
   "cell_type": "markdown",
   "id": "5af21038",
   "metadata": {},
   "source": [
    "### Fraud Headlines"
   ]
  },
  {
   "cell_type": "markdown",
   "id": "d8b6d71d",
   "metadata": {},
   "source": [
    "To create a dataset containing fraud headlines, we parse the [ACFE](https://www.acfe.com/default.aspx) website "
   ]
  },
  {
   "cell_type": "markdown",
   "id": "50cc548b",
   "metadata": {},
   "source": [
    "<u>Parameters</u>"
   ]
  },
  {
   "cell_type": "code",
   "execution_count": 2,
   "id": "072ee696",
   "metadata": {},
   "outputs": [],
   "source": [
    "from_ = 2012\n",
    "to_ = 2022"
   ]
  },
  {
   "cell_type": "code",
   "execution_count": 3,
   "id": "56e8b6e0",
   "metadata": {},
   "outputs": [],
   "source": [
    "archives = [f\"https://www.acfe.com/fraud-headlines-{year}.aspx\" for year in range(\n",
    "    from_, to_)] + [\"https://www.acfe.com/fraud-headlines.aspx\"]"
   ]
  },
  {
   "cell_type": "code",
   "execution_count": 4,
   "id": "77fe8451",
   "metadata": {},
   "outputs": [],
   "source": [
    "def scrape_website(url):\n",
    "    result = requests.get(url)\n",
    "    c = result.content\n",
    "    return BeautifulSoup(c)"
   ]
  },
  {
   "cell_type": "code",
   "execution_count": 5,
   "id": "3a6c95d8",
   "metadata": {},
   "outputs": [],
   "source": [
    "def parse_titles(soup):\n",
    "    titles = []\n",
    "    headlines = soup.find(\"div\", {\n",
    "                        \"id\": \"ctl00_MainContent_DropZone1_uxColumnDisplay_ctl00_uxControlColumn_ctl00_uxWidgetHost_uxWidgetHost_widget_CB\"}).findAll('strong')\n",
    "    for h in headlines:\n",
    "        try:\n",
    "            titles.append(h.findAll(text=True))\n",
    "        except IndexError:\n",
    "            pass\n",
    "    titles = [\"\".join(l) for l in titles]\n",
    "    titles = list(filter(None, titles))\n",
    "    return list(set(titles))"
   ]
  },
  {
   "cell_type": "code",
   "execution_count": 6,
   "id": "214e33e4",
   "metadata": {},
   "outputs": [
    {
     "data": {
      "application/vnd.jupyter.widget-view+json": {
       "model_id": "42e009512a19446da24cfef0d63f1a7c",
       "version_major": 2,
       "version_minor": 0
      },
      "text/plain": [
       "  0%|          | 0/11 [00:00<?, ?it/s]"
      ]
     },
     "metadata": {},
     "output_type": "display_data"
    }
   ],
   "source": [
    "titles = []\n",
    "for url in tqdm(archives):\n",
    "    soup = scrape_website(url)\n",
    "    title = parse_titles(soup)\n",
    "    titles.append(title)\n",
    "titles = list(itertools.chain.from_iterable(titles))"
   ]
  },
  {
   "cell_type": "code",
   "execution_count": 7,
   "id": "3d0a6aa4",
   "metadata": {},
   "outputs": [],
   "source": [
    "df_fraud = pd.DataFrame(titles, columns=[\"text\"])\n",
    "df_fraud[\"text\"] = df_fraud[\"text\"].str.replace(\"\\xa0\", \"\")\n",
    "df_fraud[\"target\"] = 1\n",
    "# save to csv\n",
    "df_fraud.to_csv(r\"data\\fraud_news.csv\")"
   ]
  },
  {
   "cell_type": "markdown",
   "id": "8404594c",
   "metadata": {},
   "source": [
    "### Classic News"
   ]
  },
  {
   "cell_type": "markdown",
   "id": "1cac90ed",
   "metadata": {},
   "source": [
    "The dataset comme from [Kaggle](https://www.kaggle.com/gennadiyr/us-equities-news-data)\n",
    "\n",
    "This data represents the historical news archive for the last 12 years of the US equities publicly traded on NYSE/NASDAQ which still has a price higher than 10$ per share."
   ]
  },
  {
   "cell_type": "code",
   "execution_count": 8,
   "id": "7578e880",
   "metadata": {},
   "outputs": [],
   "source": [
    "df_fin = pd.read_csv(r\"data\\stock_news.csv\", encoding='latin-1')[[\"title\"]]\n",
    "df_fin = df_fin.rename(columns={\"title\":\"text\"})\n",
    "df_fin = df_fin.sample(n=len(df_fraud)) # undersample the majority class\n",
    "df_fin[\"target\"] = 0"
   ]
  },
  {
   "cell_type": "markdown",
   "id": "45ad569d",
   "metadata": {},
   "source": [
    "### Merge dataframes"
   ]
  },
  {
   "cell_type": "code",
   "execution_count": 9,
   "id": "3898e6c0",
   "metadata": {},
   "outputs": [],
   "source": [
    "df_data = pd.concat([df_fraud, df_fin])\n",
    "df_data = df_data.sample(frac=1).reset_index(drop=True)\n",
    "# save to csv\n",
    "df_data.to_csv(r\"data\\raw_dataset.csv\")"
   ]
  },
  {
   "cell_type": "code",
   "execution_count": 10,
   "id": "baadef31",
   "metadata": {},
   "outputs": [
    {
     "data": {
      "text/html": [
       "<div>\n",
       "<style scoped>\n",
       "    .dataframe tbody tr th:only-of-type {\n",
       "        vertical-align: middle;\n",
       "    }\n",
       "\n",
       "    .dataframe tbody tr th {\n",
       "        vertical-align: top;\n",
       "    }\n",
       "\n",
       "    .dataframe thead th {\n",
       "        text-align: right;\n",
       "    }\n",
       "</style>\n",
       "<table border=\"1\" class=\"dataframe\">\n",
       "  <thead>\n",
       "    <tr style=\"text-align: right;\">\n",
       "      <th></th>\n",
       "      <th>text</th>\n",
       "      <th>target</th>\n",
       "    </tr>\n",
       "  </thead>\n",
       "  <tbody>\n",
       "    <tr>\n",
       "      <th>0</th>\n",
       "      <td>How Banks Fight Fraud In Electronic Banking</td>\n",
       "      <td>1</td>\n",
       "    </tr>\n",
       "    <tr>\n",
       "      <th>1</th>\n",
       "      <td>Nicolas Sarkozy, Ex-President Of France, Faces...</td>\n",
       "      <td>1</td>\n",
       "    </tr>\n",
       "    <tr>\n",
       "      <th>2</th>\n",
       "      <td>Medicare Fraud Is Often Cloaked As ‘Free’ Serv...</td>\n",
       "      <td>1</td>\n",
       "    </tr>\n",
       "    <tr>\n",
       "      <th>3</th>\n",
       "      <td>U S  sees role for India in battle against Isl...</td>\n",
       "      <td>0</td>\n",
       "    </tr>\n",
       "    <tr>\n",
       "      <th>4</th>\n",
       "      <td>IBM seeks  167 million from Groupon in dispute...</td>\n",
       "      <td>0</td>\n",
       "    </tr>\n",
       "    <tr>\n",
       "      <th>...</th>\n",
       "      <td>...</td>\n",
       "      <td>...</td>\n",
       "    </tr>\n",
       "    <tr>\n",
       "      <th>2633</th>\n",
       "      <td>China Injects $9.7 Billion Into Anbang After F...</td>\n",
       "      <td>1</td>\n",
       "    </tr>\n",
       "    <tr>\n",
       "      <th>2634</th>\n",
       "      <td>Watchdog Claims Billions In Covid Stimulus Fraud</td>\n",
       "      <td>1</td>\n",
       "    </tr>\n",
       "    <tr>\n",
       "      <th>2635</th>\n",
       "      <td>Potential Flat 35 Loan Fraud — Another Low Blo...</td>\n",
       "      <td>1</td>\n",
       "    </tr>\n",
       "    <tr>\n",
       "      <th>2636</th>\n",
       "      <td>Help Elderly Parents Fight Financial Fraud</td>\n",
       "      <td>1</td>\n",
       "    </tr>\n",
       "    <tr>\n",
       "      <th>2637</th>\n",
       "      <td>Breakdown  Global growth boom cuts link betwee...</td>\n",
       "      <td>0</td>\n",
       "    </tr>\n",
       "  </tbody>\n",
       "</table>\n",
       "<p>2638 rows × 2 columns</p>\n",
       "</div>"
      ],
      "text/plain": [
       "                                                   text  target\n",
       "0          How Banks Fight Fraud In Electronic Banking        1\n",
       "1     Nicolas Sarkozy, Ex-President Of France, Faces...       1\n",
       "2     Medicare Fraud Is Often Cloaked As ‘Free’ Serv...       1\n",
       "3     U S  sees role for India in battle against Isl...       0\n",
       "4     IBM seeks  167 million from Groupon in dispute...       0\n",
       "...                                                 ...     ...\n",
       "2633  China Injects $9.7 Billion Into Anbang After F...       1\n",
       "2634   Watchdog Claims Billions In Covid Stimulus Fraud       1\n",
       "2635  Potential Flat 35 Loan Fraud — Another Low Blo...       1\n",
       "2636        Help Elderly Parents Fight Financial Fraud        1\n",
       "2637  Breakdown  Global growth boom cuts link betwee...       0\n",
       "\n",
       "[2638 rows x 2 columns]"
      ]
     },
     "execution_count": 10,
     "metadata": {},
     "output_type": "execute_result"
    }
   ],
   "source": [
    "df_data"
   ]
  }
 ],
 "metadata": {
  "kernelspec": {
   "display_name": "Python 3 (ipykernel)",
   "language": "python",
   "name": "python3"
  },
  "language_info": {
   "codemirror_mode": {
    "name": "ipython",
    "version": 3
   },
   "file_extension": ".py",
   "mimetype": "text/x-python",
   "name": "python",
   "nbconvert_exporter": "python",
   "pygments_lexer": "ipython3",
   "version": "3.10.1"
  },
  "toc": {
   "base_numbering": 1,
   "nav_menu": {},
   "number_sections": false,
   "sideBar": true,
   "skip_h1_title": false,
   "title_cell": "Table of Contents",
   "title_sidebar": "Contents",
   "toc_cell": false,
   "toc_position": {},
   "toc_section_display": true,
   "toc_window_display": false
  }
 },
 "nbformat": 4,
 "nbformat_minor": 5
}
