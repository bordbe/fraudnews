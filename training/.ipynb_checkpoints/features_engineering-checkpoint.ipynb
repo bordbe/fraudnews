{
 "cells": [
  {
   "cell_type": "markdown",
   "id": "5b3fe4f2",
   "metadata": {},
   "source": [
    "## Feature Engineering"
   ]
  },
  {
   "cell_type": "code",
   "execution_count": 1,
   "id": "40b8f174",
   "metadata": {},
   "outputs": [],
   "source": [
    "import warnings\n",
    "warnings.filterwarnings('ignore')\n",
    "import pickle\n",
    "import pandas as pd\n",
    "import numpy as np\n",
    "import re, string\n",
    "import seaborn as sns\n",
    "import matplotlib.pyplot as plt\n",
    "\n",
    "from sklearn.feature_extraction.text import TfidfVectorizer\n",
    "from sklearn.model_selection import train_test_split\n",
    "from sklearn.decomposition import PCA\n",
    "from sklearn.manifold import TSNE\n",
    "\n",
    "import nltk\n",
    "from nltk.stem import WordNetLemmatizer\n",
    "from nltk.corpus import stopwords\n",
    "from nltk.tokenize import word_tokenize\n",
    "from nltk.corpus import wordnet"
   ]
  },
  {
   "cell_type": "markdown",
   "id": "6eb50284",
   "metadata": {},
   "source": [
    "**Load Data**"
   ]
  },
  {
   "cell_type": "code",
   "execution_count": 2,
   "id": "484de83a",
   "metadata": {},
   "outputs": [
    {
     "data": {
      "text/html": [
       "<div>\n",
       "<style scoped>\n",
       "    .dataframe tbody tr th:only-of-type {\n",
       "        vertical-align: middle;\n",
       "    }\n",
       "\n",
       "    .dataframe tbody tr th {\n",
       "        vertical-align: top;\n",
       "    }\n",
       "\n",
       "    .dataframe thead th {\n",
       "        text-align: right;\n",
       "    }\n",
       "</style>\n",
       "<table border=\"1\" class=\"dataframe\">\n",
       "  <thead>\n",
       "    <tr style=\"text-align: right;\">\n",
       "      <th></th>\n",
       "      <th>text</th>\n",
       "      <th>target</th>\n",
       "    </tr>\n",
       "  </thead>\n",
       "  <tbody>\n",
       "    <tr>\n",
       "      <th>0</th>\n",
       "      <td>How Banks Fight Fraud In Electronic Banking</td>\n",
       "      <td>1</td>\n",
       "    </tr>\n",
       "    <tr>\n",
       "      <th>1</th>\n",
       "      <td>Nicolas Sarkozy, Ex-President Of France, Faces...</td>\n",
       "      <td>1</td>\n",
       "    </tr>\n",
       "    <tr>\n",
       "      <th>2</th>\n",
       "      <td>Medicare Fraud Is Often Cloaked As ‘Free’ Serv...</td>\n",
       "      <td>1</td>\n",
       "    </tr>\n",
       "    <tr>\n",
       "      <th>3</th>\n",
       "      <td>U S  sees role for India in battle against Isl...</td>\n",
       "      <td>0</td>\n",
       "    </tr>\n",
       "    <tr>\n",
       "      <th>4</th>\n",
       "      <td>IBM seeks  167 million from Groupon in dispute...</td>\n",
       "      <td>0</td>\n",
       "    </tr>\n",
       "  </tbody>\n",
       "</table>\n",
       "</div>"
      ],
      "text/plain": [
       "                                                text  target\n",
       "0       How Banks Fight Fraud In Electronic Banking        1\n",
       "1  Nicolas Sarkozy, Ex-President Of France, Faces...       1\n",
       "2  Medicare Fraud Is Often Cloaked As ‘Free’ Serv...       1\n",
       "3  U S  sees role for India in battle against Isl...       0\n",
       "4  IBM seeks  167 million from Groupon in dispute...       0"
      ]
     },
     "execution_count": 2,
     "metadata": {},
     "output_type": "execute_result"
    }
   ],
   "source": [
    "news = pd.read_csv(r\"data\\raw_dataset.csv\").iloc[:,1:]\n",
    "news.head()"
   ]
  },
  {
   "cell_type": "markdown",
   "id": "1a1ce14a",
   "metadata": {
    "heading_collapsed": true
   },
   "source": [
    "### Exploratory Data Analysis"
   ]
  },
  {
   "cell_type": "code",
   "execution_count": 3,
   "id": "c4153f34",
   "metadata": {
    "hidden": true
   },
   "outputs": [],
   "source": [
    "df_eda = news.copy()"
   ]
  },
  {
   "cell_type": "markdown",
   "id": "84e991c0",
   "metadata": {
    "hidden": true
   },
   "source": [
    "*Class distribution*"
   ]
  },
  {
   "cell_type": "code",
   "execution_count": 4,
   "id": "d5286747",
   "metadata": {
    "hidden": true
   },
   "outputs": [
    {
     "data": {
      "text/plain": [
       "<AxesSubplot:ylabel='target'>"
      ]
     },
     "execution_count": 4,
     "metadata": {},
     "output_type": "execute_result"
    },
    {
     "data": {
      "image/png": "[encoded data removed]",
      "text/plain": [
       "<Figure size 432x288 with 1 Axes>"
      ]
     },
     "metadata": {
      "needs_background": "light"
     },
     "output_type": "display_data"
    }
   ],
   "source": [
    "sns.barplot(df_eda.target.value_counts().index, df_eda.target.value_counts())"
   ]
  },
  {
   "cell_type": "markdown",
   "id": "65a885da",
   "metadata": {
    "hidden": true
   },
   "source": [
    "*Number of words in headline*"
   ]
  },
  {
   "cell_type": "code",
   "execution_count": 5,
   "id": "9f9cacd2",
   "metadata": {
    "hidden": true
   },
   "outputs": [
    {
     "name": "stdout",
     "output_type": "stream",
     "text": [
      "Fraud news: 9.53297952994693\n",
      "Classic news: 9.505686125852918\n"
     ]
    }
   ],
   "source": [
    "df_eda[\"words_count\"] = news.text.apply(lambda x: len(str(x).split()))\n",
    "print(f'Fraud news: {df_eda[df_eda[\"target\"]==0][\"words_count\"].mean()}')\n",
    "print(f'Classic news: {df_eda[df_eda[\"target\"]==1][\"words_count\"].mean()}')"
   ]
  },
  {
   "cell_type": "code",
   "execution_count": 6,
   "id": "db782db1",
   "metadata": {
    "hidden": true
   },
   "outputs": [
    {
     "data": {
      "image/png": "[encoded data removed]",
      "text/plain": [
       "<Figure size 720x288 with 2 Axes>"
      ]
     },
     "metadata": {
      "needs_background": "light"
     },
     "output_type": "display_data"
    }
   ],
   "source": [
    "fig, (ax1, ax2) = plt.subplots(1,2, figsize=(10,4))\n",
    "fraud_words = df_eda[df_eda[\"target\"]==1][\"words_count\"]\n",
    "ax1.hist(fraud_words)\n",
    "ax1.set_title('Fraud news')\n",
    "norm_words = df_eda[df_eda[\"target\"]==0][\"words_count\"]\n",
    "ax2.hist(norm_words)\n",
    "ax2.set_title('Classic news')\n",
    "fig.suptitle('Words per headline')\n",
    "plt.show()"
   ]
  },
  {
   "cell_type": "markdown",
   "id": "67c215fc",
   "metadata": {
    "heading_collapsed": true
   },
   "source": [
    "### Headlines Pre-Processing"
   ]
  },
  {
   "cell_type": "markdown",
   "id": "b50deac3",
   "metadata": {
    "hidden": true
   },
   "source": [
    "To obtain perfectly balanced headlines, we previously applyied undersampling technique"
   ]
  },
  {
   "cell_type": "code",
   "execution_count": 7,
   "id": "bce48c70",
   "metadata": {
    "hidden": true
   },
   "outputs": [],
   "source": [
    "def preprocess(text):\n",
    "    text = text.lower() \n",
    "    text = text.strip()\n",
    "    text = text.replace(\"\\r\", \" \").replace(\"\\n\", \" \")\n",
    "    text = re.sub('[^a-zA-Z]', ' ', text) # keep only alphabet characters\n",
    "    text = re.compile('<.*?>').sub('', text) \n",
    "    text = re.compile('[%s]' % re.escape(string.punctuation)).sub(' ', text)  \n",
    "    text = re.sub('\\s+', ' ', text)  \n",
    "    text = re.sub(r'\\[[0-9]*\\]',' ',text) \n",
    "    text = re.sub(r'[^\\w\\s]', '', str(text).lower().strip())\n",
    "    text = re.sub(r'\\d',' ',text) \n",
    "    text = re.sub(r'\\s+',' ',text) # adjust white space\n",
    "    return text"
   ]
  },
  {
   "cell_type": "code",
   "execution_count": 8,
   "id": "2a7ebffd",
   "metadata": {
    "hidden": true
   },
   "outputs": [],
   "source": [
    "def stopword(string):\n",
    "    a= [i for i in string.split() if i not in stopwords.words('english')]\n",
    "    return ' '.join(a)"
   ]
  },
  {
   "cell_type": "code",
   "execution_count": 9,
   "id": "872dbd7e",
   "metadata": {
    "hidden": true
   },
   "outputs": [],
   "source": [
    "wl = WordNetLemmatizer()\n",
    "def get_wordnet_pos(tag):\n",
    "    if tag.startswith('J'):\n",
    "        return wordnet.ADJ\n",
    "    elif tag.startswith('V'):\n",
    "        return wordnet.VERB\n",
    "    elif tag.startswith('N'):\n",
    "        return wordnet.NOUN\n",
    "    elif tag.startswith('R'):\n",
    "        return wordnet.ADV\n",
    "    else:\n",
    "        return wordnet.NOUN"
   ]
  },
  {
   "cell_type": "code",
   "execution_count": 10,
   "id": "360ab0f9",
   "metadata": {
    "hidden": true
   },
   "outputs": [],
   "source": [
    "def lemmatizer(string):\n",
    "    word_pos_tags = nltk.pos_tag(word_tokenize(string)) # Get position tags\n",
    "    a=[wl.lemmatize(tag[0], get_wordnet_pos(tag[1])) for idx, tag in enumerate(word_pos_tags)] # Map the position tag and lemmatize the word/token\n",
    "    return \" \".join(a)"
   ]
  },
  {
   "cell_type": "code",
   "execution_count": 11,
   "id": "ef5556af",
   "metadata": {
    "hidden": true
   },
   "outputs": [],
   "source": [
    "def text_process(string):\n",
    "    return lemmatizer(stopword(preprocess(string)))"
   ]
  },
  {
   "cell_type": "code",
   "execution_count": 12,
   "id": "557f1ade",
   "metadata": {
    "hidden": true
   },
   "outputs": [],
   "source": [
    "news['clean_text'] = news['text'].apply(lambda x: text_process(x))\n",
    "news.to_csv(r\"data\\preprocessed_dataset.csv\")"
   ]
  },
  {
   "cell_type": "markdown",
   "id": "e27a6925",
   "metadata": {},
   "source": [
    "### Headlines Vectorization"
   ]
  },
  {
   "cell_type": "markdown",
   "id": "60732ccc",
   "metadata": {},
   "source": [
    "Train - Test split"
   ]
  },
  {
   "cell_type": "code",
   "execution_count": 13,
   "id": "f81836bb",
   "metadata": {},
   "outputs": [],
   "source": [
    "x_train, x_test, y_train, y_test = train_test_split(news.clean_text, news.target, test_size=0.15, random_state=8)"
   ]
  },
  {
   "cell_type": "markdown",
   "id": "c70e2859",
   "metadata": {},
   "source": [
    "Text representation"
   ]
  },
  {
   "cell_type": "code",
   "execution_count": 14,
   "id": "a5b32643",
   "metadata": {},
   "outputs": [],
   "source": [
    "# Parameter election\n",
    "ngram_range = (1,2)\n",
    "min_df = 10\n",
    "max_df = 1.\n",
    "max_features = 300"
   ]
  },
  {
   "cell_type": "markdown",
   "id": "5e4f1acc",
   "metadata": {},
   "source": [
    "TF-IDF Vectors as features"
   ]
  },
  {
   "cell_type": "code",
   "execution_count": 15,
   "id": "f2c3a7de",
   "metadata": {},
   "outputs": [
    {
     "name": "stdout",
     "output_type": "stream",
     "text": [
      "(2242, 300)\n",
      "(396, 300)\n"
     ]
    }
   ],
   "source": [
    "tfidf = TfidfVectorizer(encoding='utf-8',\n",
    "                        ngram_range=ngram_range,\n",
    "                        stop_words=None,\n",
    "                        lowercase=False,\n",
    "                        max_df=max_df,\n",
    "                        min_df=min_df,\n",
    "                        max_features=max_features,\n",
    "                        norm='l2',\n",
    "                        sublinear_tf=True)\n",
    "\n",
    "pickle.dump(tfidf, open(r'buffer\\tfidf.pkl', 'wb'))\n",
    "\n",
    "features_train = tfidf.fit_transform(x_train).toarray()\n",
    "labels_train = y_train\n",
    "print(features_train.shape)\n",
    "\n",
    "features_test = tfidf.transform(x_test).toarray()\n",
    "labels_test = y_test\n",
    "print(features_test.shape)"
   ]
  },
  {
   "cell_type": "markdown",
   "id": "5724ae55",
   "metadata": {},
   "source": [
    "Export data"
   ]
  },
  {
   "cell_type": "code",
   "execution_count": 16,
   "id": "44728ac7",
   "metadata": {},
   "outputs": [],
   "source": [
    "with open(r'buffer\\preprocessed_dataset.pkl', 'wb') as output:\n",
    "    pickle.dump(news, output)\n",
    "\n",
    "with open(r'buffer\\features_train.pkl', 'wb') as output:\n",
    "    pickle.dump(features_train, output)\n",
    "\n",
    "with open(r'buffer\\labels_train.pkl', 'wb') as output:\n",
    "    pickle.dump(labels_train, output)\n",
    "\n",
    "with open(r'buffer\\features_test.pkl', 'wb') as output:\n",
    "    pickle.dump(features_test, output)\n",
    "\n",
    "with open(r'buffer\\labels_test.pkl', 'wb') as output:\n",
    "    pickle.dump(labels_test, output)"
   ]
  },
  {
   "cell_type": "markdown",
   "id": "049b4aeb",
   "metadata": {},
   "source": [
    "### Dimensionality Reduction Plots"
   ]
  },
  {
   "cell_type": "code",
   "execution_count": 17,
   "id": "75433f4c",
   "metadata": {},
   "outputs": [],
   "source": [
    "features = np.concatenate((features_train,features_test), axis=0)\n",
    "labels = np.concatenate((labels_train,labels_test), axis=0)"
   ]
  },
  {
   "cell_type": "code",
   "execution_count": 18,
   "id": "5c7e9e68",
   "metadata": {},
   "outputs": [],
   "source": [
    "def plot_dim_red(model, features, labels, n_components=2):\n",
    "    # Creation of the model\n",
    "    if (model == 'PCA'):\n",
    "        mod = PCA(n_components=n_components)\n",
    "        title = \"PCA decomposition\"  # for the plot\n",
    "    elif (model == 'TSNE'):\n",
    "        mod = TSNE(n_components=2)\n",
    "        title = \"t-SNE decomposition\" \n",
    "    else:\n",
    "        return \"Error\"\n",
    "    # Fit and transform the features\n",
    "    principal_components = mod.fit_transform(features)\n",
    "    # Put them into a dataframe\n",
    "    df_features = pd.DataFrame(data=principal_components,\n",
    "                     columns=['PC1', 'PC2'])\n",
    "    # Now we have to paste each row's label and its meaning\n",
    "    # Convert labels array to df\n",
    "    df_labels = pd.DataFrame(data=labels,\n",
    "                             columns=['label'])\n",
    "    df_full = pd.concat([df_features, df_labels], axis=1)\n",
    "    df_full['label'] = df_full['label'].astype(str)\n",
    "    # Get labels name\n",
    "    category_names = {\n",
    "        \"0\": 'normal',\n",
    "        \"1\": 'fraud',\n",
    "    }\n",
    "    # And map labels\n",
    "    df_full['label_name'] = df_full['label']\n",
    "    df_full = df_full.replace({'label_name':category_names})\n",
    "    # Plot\n",
    "    plt.figure(figsize=(10,10))\n",
    "    sns.scatterplot(x='PC1',\n",
    "                    y='PC2',\n",
    "                    hue=\"label_name\", \n",
    "                    data=df_full,\n",
    "                    palette=[\"lightseagreen\", \"royalblue\"],\n",
    "                    alpha=.7).set_title(title);"
   ]
  },
  {
   "cell_type": "code",
   "execution_count": 19,
   "id": "7e8383ae",
   "metadata": {},
   "outputs": [
    {
     "data": {
      "image/png": "[encoded data removed]",
      "text/plain": [
       "<Figure size 720x720 with 1 Axes>"
      ]
     },
     "metadata": {
      "needs_background": "light"
     },
     "output_type": "display_data"
    }
   ],
   "source": [
    "plot_dim_red(\"PCA\", \n",
    "             features=features, \n",
    "             labels=labels,\n",
    "             n_components=2)"
   ]
  },
  {
   "cell_type": "code",
   "execution_count": 20,
   "id": "5e755322",
   "metadata": {},
   "outputs": [],
   "source": [
    "# plot_dim_red(\"TSNE\", \n",
    "#              features=features, \n",
    "#              labels=labels,\n",
    "#              n_components=2)"
   ]
  }
 ],
 "metadata": {
  "kernelspec": {
   "display_name": "Python 3 (ipykernel)",
   "language": "python",
   "name": "python3"
  },
  "language_info": {
   "codemirror_mode": {
    "name": "ipython",
    "version": 3
   },
   "file_extension": ".py",
   "mimetype": "text/x-python",
   "name": "python",
   "nbconvert_exporter": "python",
   "pygments_lexer": "ipython3",
   "version": "3.10.1"
  },
  "toc": {
   "base_numbering": 1,
   "nav_menu": {},
   "number_sections": false,
   "sideBar": true,
   "skip_h1_title": false,
   "title_cell": "Table of Contents",
   "title_sidebar": "Contents",
   "toc_cell": false,
   "toc_position": {},
   "toc_section_display": true,
   "toc_window_display": false
  }
 },
 "nbformat": 4,
 "nbformat_minor": 5
}
