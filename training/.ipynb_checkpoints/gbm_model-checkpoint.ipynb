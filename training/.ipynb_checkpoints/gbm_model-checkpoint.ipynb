{
 "cells": [
  {
   "cell_type": "markdown",
   "id": "378c3581",
   "metadata": {},
   "source": [
    "### Gradient Boosting Machine"
   ]
  },
  {
   "cell_type": "code",
   "execution_count": 1,
   "id": "d0ea9b46",
   "metadata": {},
   "outputs": [],
   "source": [
    "import pickle\n",
    "import numpy as np\n",
    "from sklearn.feature_extraction.text import TfidfVectorizer\n",
    "from sklearn.ensemble import GradientBoostingClassifier\n",
    "from pprint import pprint\n",
    "from sklearn.model_selection import RandomizedSearchCV\n",
    "from sklearn.model_selection import GridSearchCV\n",
    "from sklearn.metrics import classification_report, confusion_matrix, accuracy_score\n",
    "from sklearn.model_selection import ShuffleSplit, train_test_split\n",
    "import matplotlib.pyplot as plt\n",
    "from sklearn.feature_extraction.text import CountVectorizer, TfidfVectorizer, TfidfTransformer\n",
    "import seaborn as sns\n",
    "from sklearn.pipeline import Pipeline\n",
    "import pandas as pd"
   ]
  },
  {
   "cell_type": "markdown",
   "id": "6cb339ab",
   "metadata": {},
   "source": [
    "First, we load the data"
   ]
  },
  {
   "cell_type": "code",
   "execution_count": 2,
   "id": "c716e6bd",
   "metadata": {},
   "outputs": [],
   "source": [
    "with open(r'buffer\\features_train.pkl', 'rb') as data:\n",
    "    features_train = pickle.load(data)\n",
    "\n",
    "with open(r'buffer\\labels_train.pkl', 'rb') as data:\n",
    "    labels_train = pickle.load(data)\n",
    "\n",
    "with open(r'buffer\\features_test.pkl', 'rb') as data:\n",
    "    features_test = pickle.load(data)\n",
    "\n",
    "with open(r'buffer\\labels_test.pkl', 'rb') as data:\n",
    "    labels_test = pickle.load(data)"
   ]
  },
  {
   "cell_type": "markdown",
   "id": "da175f69",
   "metadata": {},
   "source": [
    "### Base Model"
   ]
  },
  {
   "cell_type": "code",
   "execution_count": 27,
   "id": "368bbe17",
   "metadata": {},
   "outputs": [],
   "source": [
    "gb_0 = GradientBoostingClassifier(random_state = 8)\n",
    "gb_0.fit(features_train,labels_train)\n",
    "y_pred = gb_0.predict(features_test)"
   ]
  },
  {
   "cell_type": "code",
   "execution_count": 29,
   "id": "6c84aac4",
   "metadata": {},
   "outputs": [
    {
     "name": "stdout",
     "output_type": "stream",
     "text": [
      "Train accuracy: 0.9558\n",
      "Test accuracy: 0.947\n",
      "\n",
      "Test confusion_matrix\n"
     ]
    },
    {
     "data": {
      "text/plain": [
       "Text(0.5, 1.0, 'Confusion Matrix Base Model')"
      ]
     },
     "execution_count": 29,
     "metadata": {},
     "output_type": "execute_result"
    },
    {
     "data": {
      "image/png": "[encoded data removed]",
      "text/plain": [
       "<Figure size 432x288 with 2 Axes>"
      ]
     },
     "metadata": {
      "needs_background": "light"
     },
     "output_type": "display_data"
    }
   ],
   "source": [
    "print(\"Train accuracy:\", np.round(accuracy_score(labels_train, gb_0.predict(features_train)), 4))\n",
    "print(\"Test accuracy:\", np.round(accuracy_score(labels_test, y_pred), 4))\n",
    "cf_matrix = confusion_matrix(labels_test, y_pred)\n",
    "print(\"\\nTest confusion_matrix\")\n",
    "sns.heatmap(cf_matrix, annot=True, cmap='Blues')\n",
    "plt.xlabel(\"Predicted\", fontsize=12)\n",
    "plt.ylabel(\"True\", fontsize=12)\n",
    "plt.title(\"Confusion Matrix Base Model\")"
   ]
  },
  {
   "cell_type": "markdown",
   "id": "f573ac9a",
   "metadata": {},
   "source": [
    "### Cross-Validation for Hyperparameter tuning"
   ]
  },
  {
   "cell_type": "markdown",
   "id": "904eb3b9",
   "metadata": {},
   "source": [
    "#### Randomized Search Cross Validation"
   ]
  },
  {
   "cell_type": "code",
   "execution_count": 30,
   "id": "ccd6ca70",
   "metadata": {},
   "outputs": [
    {
     "name": "stdout",
     "output_type": "stream",
     "text": [
      "Fitting 3 folds for each of 50 candidates, totalling 150 fits\n",
      "\n"
     ]
    }
   ],
   "source": [
    "n_estimators = [200, 800]\n",
    "max_features = ['auto', 'sqrt']\n",
    "max_depth = [10, 40]\n",
    "max_depth.append(None)\n",
    "min_samples_split = [10, 30, 50]\n",
    "min_samples_leaf = [1, 2, 4]\n",
    "learning_rate = [.1, .5]\n",
    "subsample = [.5, 1.]\n",
    "random_grid = {'n_estimators': n_estimators,\n",
    "               'max_features': max_features,\n",
    "               'max_depth': max_depth,\n",
    "               'min_samples_split': min_samples_split,\n",
    "               'min_samples_leaf': min_samples_leaf,\n",
    "               'learning_rate': learning_rate,\n",
    "               'subsample': subsample}\n",
    "\n",
    "gbc = GradientBoostingClassifier(random_state=8)\n",
    "\n",
    "random_search = RandomizedSearchCV(estimator=gbc,\n",
    "                                   param_distributions=random_grid,\n",
    "                                   n_iter=50,\n",
    "                                   scoring='accuracy',\n",
    "                                   cv=3, \n",
    "                                   verbose=1, \n",
    "                                   random_state=8)\n",
    "\n",
    "random_search.fit(features_train, labels_train)"
   ]
  },
  {
   "cell_type": "code",
   "execution_count": 31,
   "id": "2ced67fc",
   "metadata": {},
   "outputs": [
    {
     "name": "stdout",
     "output_type": "stream",
     "text": [
      "The best hyperparameters from Random Search are:\n",
      "{'learning_rate': 0.5,\n",
      " 'max_depth': 40,\n",
      " 'max_features': 'sqrt',\n",
      " 'min_samples_leaf': 1,\n",
      " 'min_samples_split': 10,\n",
      " 'n_estimators': 200,\n",
      " 'subsample': 1.0}\n",
      "\n",
      "The mean accuracy of a model with these hyperparameters is:\n",
      "0.9446878422782037\n"
     ]
    }
   ],
   "source": [
    "print(\"The best hyperparameters from Random Search are:\")\n",
    "pprint(random_search.best_params_)\n",
    "print(\"\")\n",
    "print(\"The mean accuracy of a model with these hyperparameters is:\")\n",
    "print(random_search.best_score_)"
   ]
  },
  {
   "cell_type": "markdown",
   "id": "714d4a81",
   "metadata": {},
   "source": [
    "#### Grid Search Cross Validation"
   ]
  },
  {
   "cell_type": "markdown",
   "id": "e6f4c265",
   "metadata": {},
   "source": [
    "More exhaustive search centered in those values"
   ]
  },
  {
   "cell_type": "code",
   "execution_count": 32,
   "id": "5ee45625",
   "metadata": {},
   "outputs": [
    {
     "name": "stdout",
     "output_type": "stream",
     "text": [
      "Fitting 3 folds for each of 12 candidates, totalling 36 fits\n"
     ]
    },
    {
     "data": {
      "text/plain": [
       "GridSearchCV(cv=ShuffleSplit(n_splits=3, random_state=8, test_size=0.33, train_size=None),\n",
       "             estimator=GradientBoostingClassifier(random_state=8),\n",
       "             param_grid={'learning_rate': [0.1, 0.5], 'max_depth': [35, 40, 45],\n",
       "                         'max_features': ['sqrt'], 'min_samples_leaf': [1],\n",
       "                         'min_samples_split': [10, 50], 'n_estimators': [200],\n",
       "                         'subsample': [1.0]},\n",
       "             scoring='accuracy', verbose=1)"
      ]
     },
     "execution_count": 32,
     "metadata": {},
     "output_type": "execute_result"
    }
   ],
   "source": [
    "# Create the parameter grid based on the results of random search \n",
    "max_depth = [35, 40, 45]\n",
    "max_features = ['sqrt']\n",
    "min_samples_leaf = [1]\n",
    "min_samples_split = [10, 50]\n",
    "n_estimators = [200]\n",
    "learning_rate = [.1, .5]\n",
    "subsample = [1.]\n",
    "\n",
    "param_grid = {\n",
    "    'max_depth': max_depth,\n",
    "    'max_features': max_features,\n",
    "    'min_samples_leaf': min_samples_leaf,\n",
    "    'min_samples_split': min_samples_split,\n",
    "    'n_estimators': n_estimators,\n",
    "    'learning_rate': learning_rate,\n",
    "    'subsample': subsample\n",
    "\n",
    "}\n",
    "\n",
    "# Create a base model\n",
    "gbc = GradientBoostingClassifier(random_state=8)\n",
    "\n",
    "# Manually create the splits in CV in order to be able to fix a random_state (GridSearchCV doesn't have that argument)\n",
    "cv_sets = ShuffleSplit(n_splits = 3, test_size = .33, random_state = 8)\n",
    "\n",
    "# Instantiate the grid search model\n",
    "grid_search = GridSearchCV(estimator=gbc, \n",
    "                           param_grid=param_grid,\n",
    "                           scoring='accuracy',\n",
    "                           cv=cv_sets,\n",
    "                           verbose=1)\n",
    "\n",
    "# Fit the grid search to the data\n",
    "grid_search.fit(features_train, labels_train)"
   ]
  },
  {
   "cell_type": "code",
   "execution_count": 33,
   "id": "fe077057",
   "metadata": {},
   "outputs": [
    {
     "name": "stdout",
     "output_type": "stream",
     "text": [
      "The best hyperparameters from Grid Search are:\n",
      "{'learning_rate': 0.1,\n",
      " 'max_depth': 35,\n",
      " 'max_features': 'sqrt',\n",
      " 'min_samples_leaf': 1,\n",
      " 'min_samples_split': 10,\n",
      " 'n_estimators': 200,\n",
      " 'subsample': 1.0}\n",
      "\n",
      "The mean accuracy of a model with these hyperparameters is:\n",
      "0.9436936936936937\n"
     ]
    }
   ],
   "source": [
    "print(\"The best hyperparameters from Grid Search are:\")\n",
    "pprint(grid_search.best_params_)\n",
    "print(\"\")\n",
    "print(\"The mean accuracy of a model with these hyperparameters is:\")\n",
    "print(grid_search.best_score_)"
   ]
  },
  {
   "cell_type": "markdown",
   "id": "63bed2d0",
   "metadata": {},
   "source": [
    "Let's save the model in best_lrc"
   ]
  },
  {
   "cell_type": "code",
   "execution_count": 34,
   "id": "35ea6848",
   "metadata": {},
   "outputs": [],
   "source": [
    "best_gbc = grid_search.best_estimator_"
   ]
  },
  {
   "cell_type": "markdown",
   "id": "97571030",
   "metadata": {},
   "source": [
    "### Model fit and performance"
   ]
  },
  {
   "cell_type": "code",
   "execution_count": 35,
   "id": "2fca16de",
   "metadata": {},
   "outputs": [],
   "source": [
    "best_gbc.fit(features_train, labels_train)\n",
    "y_pred = best_gbc.predict(features_test)"
   ]
  },
  {
   "cell_type": "code",
   "execution_count": 38,
   "id": "a7e47b1a",
   "metadata": {},
   "outputs": [
    {
     "name": "stdout",
     "output_type": "stream",
     "text": [
      "Train accuracy: 0.9929\n",
      "Test accuracy: 0.9646\n",
      "\n",
      "Test confusion_matrix\n"
     ]
    },
    {
     "data": {
      "text/plain": [
       "Text(33.0, 0.5, 'True')"
      ]
     },
     "execution_count": 38,
     "metadata": {},
     "output_type": "execute_result"
    },
    {
     "data": {
      "image/png": "[encoded data removed]",
      "text/plain": [
       "<Figure size 432x288 with 2 Axes>"
      ]
     },
     "metadata": {
      "needs_background": "light"
     },
     "output_type": "display_data"
    }
   ],
   "source": [
    "print(\"Train accuracy:\", np.round(accuracy_score(labels_train, best_gbc.predict(features_train)), 4))\n",
    "print(\"Test accuracy:\", np.round(accuracy_score(labels_test, y_pred), 4))\n",
    "cf_matrix = confusion_matrix(labels_test, y_pred)\n",
    "print(\"\\nTest confusion_matrix\")\n",
    "sns.heatmap(cf_matrix, annot=True, cmap='Blues')\n",
    "plt.xlabel(\"Predicted\", fontsize=12)\n",
    "plt.ylabel(\"True\", fontsize=12)"
   ]
  },
  {
   "cell_type": "code",
   "execution_count": null,
   "id": "9ae06cf0",
   "metadata": {},
   "outputs": [],
   "source": []
  }
 ],
 "metadata": {
  "kernelspec": {
   "display_name": "Python 3 (ipykernel)",
   "language": "python",
   "name": "python3"
  },
  "language_info": {
   "codemirror_mode": {
    "name": "ipython",
    "version": 3
   },
   "file_extension": ".py",
   "mimetype": "text/x-python",
   "name": "python",
   "nbconvert_exporter": "python",
   "pygments_lexer": "ipython3",
   "version": "3.10.1"
  },
  "toc": {
   "base_numbering": 1,
   "nav_menu": {},
   "number_sections": false,
   "sideBar": true,
   "skip_h1_title": false,
   "title_cell": "Table of Contents",
   "title_sidebar": "Contents",
   "toc_cell": false,
   "toc_position": {},
   "toc_section_display": true,
   "toc_window_display": false
  }
 },
 "nbformat": 4,
 "nbformat_minor": 5
}
