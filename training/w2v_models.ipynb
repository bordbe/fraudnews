{
 "cells": [
  {
   "cell_type": "markdown",
   "id": "663f2b6b",
   "metadata": {},
   "source": [
    "## NLP Classification"
   ]
  },
  {
   "cell_type": "markdown",
   "id": "02c11f3d",
   "metadata": {},
   "source": [
    "### Importing Libraries"
   ]
  },
  {
   "cell_type": "code",
   "execution_count": 43,
   "id": "b5eb6300",
   "metadata": {},
   "outputs": [
    {
     "data": {
      "text/html": [
       "        <script type=\"text/javascript\">\n",
       "        window.PlotlyConfig = {MathJaxConfig: 'local'};\n",
       "        if (window.MathJax) {MathJax.Hub.Config({SVG: {font: \"STIX-Web\"}});}\n",
       "        if (typeof require !== 'undefined') {\n",
       "        require.undef(\"plotly\");\n",
       "        requirejs.config({\n",
       "            paths: {\n",
       "                'plotly': ['https://cdn.plot.ly/plotly-2.9.0.min']\n",
       "            }\n",
       "        });\n",
       "        require(['plotly'], function(Plotly) {\n",
       "            window._Plotly = Plotly;\n",
       "        });\n",
       "        }\n",
       "        </script>\n",
       "        "
      ]
     },
     "metadata": {},
     "output_type": "display_data"
    }
   ],
   "source": [
    "import warnings\n",
    "warnings.filterwarnings('ignore')\n",
    "import json\n",
    "import pandas as pd\n",
    "import pickle\n",
    "from pprint import pprint\n",
    "import swifter\n",
    "import numpy as np\n",
    "import gensim\n",
    "import gensim.downloader as gensim_api\n",
    "from gensim.models import Word2Vec\n",
    "import re, string\n",
    "import seaborn as sns\n",
    "from sklearn.model_selection import ShuffleSplit, train_test_split\n",
    "import nltk\n",
    "from imblearn.under_sampling import RandomUnderSampler, TomekLinks\n",
    "from imblearn.combine import SMOTETomek\n",
    "from nltk.stem import WordNetLemmatizer\n",
    "from nltk.corpus import stopwords\n",
    "from sklearn.svm import SVC\n",
    "from nltk.tokenize import word_tokenize\n",
    "from nltk.corpus import wordnet\n",
    "from nltk.sentiment.vader import SentimentIntensityAnalyzer\n",
    "import xgboost as xgb\n",
    "from sklearn.linear_model import LogisticRegression\n",
    "from sklearn.metrics import classification_report, confusion_matrix, accuracy_score, roc_curve, auc, f1_score, recall_score\n",
    "from sklearn.feature_extraction.text import CountVectorizer, TfidfVectorizer, TfidfTransformer\n",
    "from sklearn.model_selection import RandomizedSearchCV\n",
    "from sklearn.model_selection import GridSearchCV\n",
    "import plotly.offline as py\n",
    "py.init_notebook_mode(connected=True)\n",
    "import plotly.graph_objs as go\n",
    "import plotly.tools as tls\n",
    "import plotly.figure_factory as ff"
   ]
  },
  {
   "cell_type": "code",
   "execution_count": 2,
   "id": "82e0fbaf",
   "metadata": {},
   "outputs": [],
   "source": [
    "def plot_confusion_matrix(cf_matrix):\n",
    "    ax = sns.heatmap(cf_matrix, annot=True, cmap='Blues')\n",
    "    ax.set_title('Seaborn Confusion Matrix with labels\\n\\n');\n",
    "    ax.set_xlabel('\\nPredicted Values')\n",
    "    ax.set_ylabel('Actual Values ');\n",
    "    ax.xaxis.set_ticklabels(['False','True'])\n",
    "    ax.yaxis.set_ticklabels(['False','True'])"
   ]
  },
  {
   "cell_type": "markdown",
   "id": "f3d9993c",
   "metadata": {},
   "source": [
    "### Loading the Data Set"
   ]
  },
  {
   "cell_type": "code",
   "execution_count": 3,
   "id": "082a4212",
   "metadata": {},
   "outputs": [],
   "source": [
    "# load data\n",
    "df_normalnews = pd.read_csv(r\"data\\stock_news.csv\", encoding='latin-1')[[\"title\"]]\n",
    "df_normalnews = df_normalnews.rename(columns={\"title\":\"text\"})\n",
    "df_fraudnews = pd.read_csv(r\"data\\fraud_news.csv\").iloc[:,1:]\n",
    "df_normalnews = df_normalnews.sample(5*len(df_fraudnews))\n",
    "# merge\n",
    "df_news = pd.concat([df_fraudnews, df_normalnews])\n",
    "df_news = df_news.sample(frac=1).reset_index(drop=True)\n",
    "df_news[\"target\"] = df_news[\"target\"].fillna(0)"
   ]
  },
  {
   "cell_type": "markdown",
   "id": "28126960",
   "metadata": {},
   "source": [
    "### Text Pre-Processing"
   ]
  },
  {
   "cell_type": "code",
   "execution_count": 4,
   "id": "bce48c70",
   "metadata": {},
   "outputs": [],
   "source": [
    "def preprocess(text):\n",
    "    text = text.lower() \n",
    "    text = text.strip()\n",
    "    text = text.replace(\"\\r\", \" \").replace(\"\\n\", \" \")\n",
    "    text = re.sub('[^a-zA-Z]', ' ', text) # keep only alphabet characters\n",
    "    text = re.compile('<.*?>').sub('', text) \n",
    "    text = re.compile('[%s]' % re.escape(string.punctuation)).sub(' ', text)  \n",
    "    text = re.sub('\\s+', ' ', text)  \n",
    "    text = re.sub(r'\\[[0-9]*\\]',' ',text) \n",
    "    text = re.sub(r'[^\\w\\s]', '', str(text).lower().strip())\n",
    "    text = re.sub(r'\\d',' ',text) \n",
    "    text = re.sub(r'\\s+',' ',text) # adjust white space\n",
    "    return text"
   ]
  },
  {
   "cell_type": "code",
   "execution_count": 5,
   "id": "2a7ebffd",
   "metadata": {},
   "outputs": [],
   "source": [
    "def stopword(string):\n",
    "    a= [i for i in string.split() if i not in stopwords.words('english')]\n",
    "    return ' '.join(a)"
   ]
  },
  {
   "cell_type": "code",
   "execution_count": 6,
   "id": "872dbd7e",
   "metadata": {},
   "outputs": [],
   "source": [
    "wl = WordNetLemmatizer()\n",
    "def get_wordnet_pos(tag):\n",
    "    if tag.startswith('J'):\n",
    "        return wordnet.ADJ\n",
    "    elif tag.startswith('V'):\n",
    "        return wordnet.VERB\n",
    "    elif tag.startswith('N'):\n",
    "        return wordnet.NOUN\n",
    "    elif tag.startswith('R'):\n",
    "        return wordnet.ADV\n",
    "    else:\n",
    "        return wordnet.NOUN"
   ]
  },
  {
   "cell_type": "code",
   "execution_count": 7,
   "id": "360ab0f9",
   "metadata": {},
   "outputs": [],
   "source": [
    "def lemmatizer(string):\n",
    "    word_pos_tags = nltk.pos_tag(word_tokenize(string)) # Get position tags\n",
    "    a=[wl.lemmatize(tag[0], get_wordnet_pos(tag[1])) for idx, tag in enumerate(word_pos_tags)] # Map the position tag and lemmatize the word/token\n",
    "    return \" \".join(a)"
   ]
  },
  {
   "cell_type": "code",
   "execution_count": 8,
   "id": "ef5556af",
   "metadata": {},
   "outputs": [],
   "source": [
    "def text_process(string):\n",
    "    return lemmatizer(stopword(preprocess(string)))"
   ]
  },
  {
   "cell_type": "code",
   "execution_count": 9,
   "id": "557f1ade",
   "metadata": {},
   "outputs": [
    {
     "data": {
      "application/vnd.jupyter.widget-view+json": {
       "model_id": "7381595fd5504560b6e781bcb9086f61",
       "version_major": 2,
       "version_minor": 0
      },
      "text/plain": [
       "Pandas Apply:   0%|          | 0/7914 [00:00<?, ?it/s]"
      ]
     },
     "metadata": {},
     "output_type": "display_data"
    }
   ],
   "source": [
    "df_news['clean_text'] = df_news['text'].swifter.apply(lambda x: text_process(x))"
   ]
  },
  {
   "cell_type": "code",
   "execution_count": 10,
   "id": "7e5bdc65",
   "metadata": {},
   "outputs": [],
   "source": [
    "df_news.to_csv(r'data\\upgraded_database.csv')"
   ]
  },
  {
   "cell_type": "markdown",
   "id": "de9a8d61",
   "metadata": {},
   "source": [
    "### Vectorization "
   ]
  },
  {
   "cell_type": "code",
   "execution_count": 11,
   "id": "3f4f9be4",
   "metadata": {},
   "outputs": [],
   "source": [
    "# building Word2Vec model\n",
    "class MeanEmbeddingVectorizer(object):\n",
    "    def __init__(self, word2vec):\n",
    "        self.word2vec = word2vec\n",
    "        # if a text is empty we should return a vector of zeros\n",
    "        # with the same dimensionality as all the other vectors\n",
    "        self.dim = len(next(iter(word2vec.values())))\n",
    "    def fit(self, X, y):\n",
    "            return self\n",
    "    def transform(self, X):\n",
    "            return np.array([\n",
    "                np.mean([self.word2vec[w] for w in words if w in self.word2vec]\n",
    "                        or [np.zeros(self.dim)], axis=0)\n",
    "                for words in X\n",
    "            ])"
   ]
  },
  {
   "cell_type": "markdown",
   "id": "8c2cb04f",
   "metadata": {},
   "source": [
    "#### Train Word2Vec"
   ]
  },
  {
   "cell_type": "code",
   "execution_count": 12,
   "id": "2c81e482",
   "metadata": {},
   "outputs": [],
   "source": [
    "df_news['clean_text_tok']=[nltk.word_tokenize(i) for i in df_news['clean_text']]\n",
    "# fit w2v\n",
    "model = gensim.models.Word2Vec(df_news['clean_text_tok'], vector_size=300, window=8, min_count=1, sg=1, epochs=30)\n",
    "w2v = dict(zip(model.wv.index_to_key, model.wv.vectors)) \n",
    "# w2v = gensim_api.load(\"word2vec-google-news-300\")\n",
    "modelw = MeanEmbeddingVectorizer(w2v)"
   ]
  },
  {
   "cell_type": "markdown",
   "id": "85391770",
   "metadata": {},
   "source": [
    "Save model"
   ]
  },
  {
   "cell_type": "code",
   "execution_count": 13,
   "id": "e37b25a5",
   "metadata": {},
   "outputs": [],
   "source": [
    "pickle.dump(modelw, open(\"buffer\\word2vec.pkl\", \"wb\"))"
   ]
  },
  {
   "cell_type": "markdown",
   "id": "fb72e759",
   "metadata": {},
   "source": [
    "#### Apply model to train data"
   ]
  },
  {
   "cell_type": "code",
   "execution_count": 14,
   "id": "06f34984",
   "metadata": {},
   "outputs": [],
   "source": [
    "X, y = df_news[\"clean_text\"], df_news[\"target\"]"
   ]
  },
  {
   "cell_type": "code",
   "execution_count": 15,
   "id": "683a4c05",
   "metadata": {},
   "outputs": [],
   "source": [
    "# Word2Vec runs on tokenized sentences\n",
    "X_tok = [nltk.word_tokenize(i) for i in X]  \n",
    "# converting text to numerical data using Word2Vec\n",
    "X_vectors_w2v = modelw.transform(X_tok)"
   ]
  },
  {
   "cell_type": "markdown",
   "id": "15ec8d66",
   "metadata": {},
   "source": [
    "Under-sampling: as the data set is quite small, we will use the SMOTE-Tomek Links method"
   ]
  },
  {
   "cell_type": "code",
   "execution_count": 16,
   "id": "847329de",
   "metadata": {},
   "outputs": [],
   "source": [
    "smote_tomek  = SMOTETomek()\n",
    "x_rspl, y_rspl = smote_tomek.fit_resample(X_vectors_w2v, y)"
   ]
  },
  {
   "cell_type": "markdown",
   "id": "4f5882de",
   "metadata": {
    "cell_style": "center"
   },
   "source": [
    "Split the training dataset into train and test"
   ]
  },
  {
   "cell_type": "code",
   "execution_count": 17,
   "id": "8c5a7267",
   "metadata": {},
   "outputs": [],
   "source": [
    "X_train, X_test, y_train, y_test = train_test_split(x_rspl, y_rspl, test_size=0.2, shuffle=True)"
   ]
  },
  {
   "cell_type": "markdown",
   "id": "08dc7aa5",
   "metadata": {
    "heading_collapsed": true
   },
   "source": [
    "### ML Algorithms"
   ]
  },
  {
   "cell_type": "code",
   "execution_count": 18,
   "id": "0f9ddccc",
   "metadata": {
    "hidden": true
   },
   "outputs": [],
   "source": [
    "df_summary = pd.DataFrame(columns=[\"Model\", \"Training Accuracy\", \"Accuracy\", \"AUC\", \"F1 Score\", \"Miss Rate\"])"
   ]
  },
  {
   "cell_type": "markdown",
   "id": "9922b6be",
   "metadata": {
    "hidden": true
   },
   "source": [
    "#### Support Vector Machine"
   ]
  },
  {
   "cell_type": "markdown",
   "id": "a859107a",
   "metadata": {
    "hidden": true
   },
   "source": [
    "Grid Search Cross Validation"
   ]
  },
  {
   "cell_type": "code",
   "execution_count": 19,
   "id": "36471a05",
   "metadata": {
    "hidden": true
   },
   "outputs": [
    {
     "name": "stdout",
     "output_type": "stream",
     "text": [
      "The best hyperparameters from Grid Search are:\n",
      "{'C': 0.0001, 'degree': 2, 'gamma': 100, 'kernel': 'poly', 'probability': True}\n",
      "\n",
      "The mean accuracy of a model with these hyperparameters is: 0.9868\n"
     ]
    }
   ],
   "source": [
    "C = [.0001, .001, .01]\n",
    "gamma = [.0001, .001, .01, .1, 1, 10, 100]\n",
    "degree = [1, 2, 3, 4, 5]\n",
    "kernel = ['linear', 'rbf', 'poly']\n",
    "probability = [True]\n",
    "param_grid = {'C': C,\n",
    "              'kernel': kernel,\n",
    "              'gamma': gamma,\n",
    "              'degree': degree,\n",
    "              'probability': probability\n",
    "             }\n",
    "\n",
    "svc = SVC(random_state=8)\n",
    "\n",
    "cv_sets = ShuffleSplit(n_splits = 3, test_size = .33, random_state = 8)\n",
    "gs_svc = GridSearchCV(estimator=svc, \n",
    "                           param_grid=param_grid,\n",
    "                           scoring='accuracy',\n",
    "                           cv=cv_sets,\n",
    "                           verbose=False)\n",
    "\n",
    "gs_svc.fit(X_train, y_train)\n",
    "\n",
    "print(\"The best hyperparameters from Grid Search are:\")\n",
    "pprint(gs_svc.best_params_)\n",
    "print(\"\")\n",
    "print(f\"The mean accuracy of a model with these hyperparameters is: {np.round(gs_svc.best_score_,4)}\")"
   ]
  },
  {
   "cell_type": "markdown",
   "id": "9eed6b94",
   "metadata": {
    "hidden": true
   },
   "source": [
    "Experiment Model"
   ]
  },
  {
   "cell_type": "code",
   "execution_count": 20,
   "id": "a8f3cf53",
   "metadata": {
    "hidden": true
   },
   "outputs": [],
   "source": [
    "best_svc = gs_svc.best_estimator_\n",
    "best_svc.fit(X_train, y_train)\n",
    "y_predict = best_svc.predict(X_test)\n",
    "y_prob = best_svc.predict_proba(X_test)[:,1]"
   ]
  },
  {
   "cell_type": "markdown",
   "id": "b853ac2f",
   "metadata": {
    "hidden": true
   },
   "source": [
    "Performance"
   ]
  },
  {
   "cell_type": "code",
   "execution_count": 21,
   "id": "f1e11c27",
   "metadata": {
    "hidden": true
   },
   "outputs": [
    {
     "name": "stdout",
     "output_type": "stream",
     "text": [
      "{'AUC': 0.999250387309471,\n",
      " 'Accuracy': 0.9901440485216073,\n",
      " 'F1 Score': 0.990327380952381,\n",
      " 'Miss Rate': 0.0015003750937734317,\n",
      " 'Model': 'SVM',\n",
      " 'Training Accuracy': 0.9991470811220622}\n"
     ]
    }
   ],
   "source": [
    "fpr, tpr, thresholds = roc_curve(y_test, y_prob)\n",
    "roc_auc = auc(fpr, tpr)\n",
    "cf_matrix = confusion_matrix(y_test, y_predict)\n",
    "FNR = 1 - recall_score(y_test, y_predict)\n",
    "d = {\n",
    "    \"Model\":\"SVM\",\n",
    "    \"Training Accuracy\":accuracy_score(y_train, best_svc.predict(X_train)),\n",
    "    \"Accuracy\":accuracy_score(y_test, y_predict),\n",
    "    \"AUC\":roc_auc,\n",
    "    \"F1 Score\":f1_score(y_test, y_predict),\n",
    "    \"Miss Rate\":FNR\n",
    "}\n",
    "df_summary = df_summary.append(d, ignore_index=True)\n",
    "pprint(d)"
   ]
  },
  {
   "cell_type": "code",
   "execution_count": 22,
   "id": "160c9e5c",
   "metadata": {
    "hidden": true
   },
   "outputs": [
    {
     "name": "stdout",
     "output_type": "stream",
     "text": [
      "\n",
      "Classification Report \n",
      "\n",
      "              precision    recall  f1-score   support\n",
      "\n",
      "         0.0       1.00      0.98      0.99      1305\n",
      "         1.0       0.98      1.00      0.99      1333\n",
      "\n",
      "    accuracy                           0.99      2638\n",
      "   macro avg       0.99      0.99      0.99      2638\n",
      "weighted avg       0.99      0.99      0.99      2638\n",
      "\n",
      "\n",
      "Test Confusion Matrix\n"
     ]
    },
    {
     "data": {
      "image/png": "[encoded data removed]",
      "text/plain": [
       "<Figure size 432x288 with 2 Axes>"
      ]
     },
     "metadata": {
      "needs_background": "light"
     },
     "output_type": "display_data"
    }
   ],
   "source": [
    "print(\"\\nClassification Report \\n\")\n",
    "print(classification_report(y_test,y_predict))\n",
    "print(\"\\nTest Confusion Matrix\")\n",
    "plot_confusion_matrix(cf_matrix)"
   ]
  },
  {
   "cell_type": "markdown",
   "id": "ccbd1d1d",
   "metadata": {
    "hidden": true
   },
   "source": [
    "#### Tree-Based Model"
   ]
  },
  {
   "cell_type": "markdown",
   "id": "7f63d8ef",
   "metadata": {
    "hidden": true
   },
   "source": [
    "Grid Search Cross Validation"
   ]
  },
  {
   "cell_type": "code",
   "execution_count": 23,
   "id": "d47ef7ef",
   "metadata": {
    "hidden": true
   },
   "outputs": [
    {
     "name": "stdout",
     "output_type": "stream",
     "text": [
      "The best hyperparameters from Grid Search are:\n",
      "{'colsample_bytree': 0.8,\n",
      " 'gamma': 0.5,\n",
      " 'max_depth': 5,\n",
      " 'min_child_weight': 1,\n",
      " 'subsample': 0.6}\n",
      "\n",
      "The mean accuracy of a model with these hyperparameters is: 0.9857\n"
     ]
    }
   ],
   "source": [
    "param_grid = {\n",
    "        'min_child_weight': [1, 5, 10],\n",
    "        'gamma': [0.5, 1, 1.5, 2, 5],\n",
    "        'subsample': [0.6, 0.8, 1.0],\n",
    "        'colsample_bytree': [0.6, 0.8, 1.0],\n",
    "        'max_depth': [3, 4, 5]\n",
    "        }\n",
    "\n",
    "xgc = xgb.XGBClassifier(objective='binary:logistic',booster='gbtree',eval_metric='auc',tree_method='hist',grow_policy='lossguide',use_label_encoder=False)\n",
    "\n",
    "cv_sets = ShuffleSplit(n_splits = 3, test_size = .33, random_state = 8)\n",
    "gs_xgb = GridSearchCV(estimator=xgc, \n",
    "                           param_grid=param_grid,\n",
    "                           scoring='accuracy',\n",
    "                           cv=cv_sets,\n",
    "                           verbose=False)\n",
    "\n",
    "gs_xgb.fit(X_train, y_train)\n",
    "\n",
    "print(\"The best hyperparameters from Grid Search are:\")\n",
    "pprint(gs_xgb.best_params_)\n",
    "print(\"\")\n",
    "print(f\"The mean accuracy of a model with these hyperparameters is: {np.round(gs_xgb.best_score_,4)}\")"
   ]
  },
  {
   "cell_type": "markdown",
   "id": "8b3f1a3a",
   "metadata": {
    "hidden": true
   },
   "source": [
    "Experiment Model"
   ]
  },
  {
   "cell_type": "code",
   "execution_count": 24,
   "id": "9daa591c",
   "metadata": {
    "hidden": true
   },
   "outputs": [],
   "source": [
    "best_xgb = gs_xgb.best_estimator_\n",
    "best_xgb.fit(X_train, y_train)\n",
    "y_predict = best_xgb.predict(X_test)\n",
    "y_prob = best_xgb.predict_proba(X_test)[:,1]"
   ]
  },
  {
   "cell_type": "markdown",
   "id": "be0f45b1",
   "metadata": {
    "hidden": true
   },
   "source": [
    "Performance"
   ]
  },
  {
   "cell_type": "code",
   "execution_count": 25,
   "id": "ea137887",
   "metadata": {
    "hidden": true
   },
   "outputs": [
    {
     "name": "stdout",
     "output_type": "stream",
     "text": [
      "{'AUC': 0.9989043237820949,\n",
      " 'Accuracy': 0.988248673237301,\n",
      " 'F1 Score': 0.9884629698548567,\n",
      " 'Miss Rate': 0.0037509377344335793,\n",
      " 'Model': 'XGB',\n",
      " 'Training Accuracy': 1.0}\n"
     ]
    }
   ],
   "source": [
    "fpr, tpr, thresholds = roc_curve(y_test, y_prob)\n",
    "roc_auc = auc(fpr, tpr)\n",
    "cf_matrix = confusion_matrix(y_test, y_predict)\n",
    "FNR = 1 - recall_score(y_test, y_predict)\n",
    "d = {\n",
    "    \"Model\":\"XGB\",\n",
    "    \"Training Accuracy\":accuracy_score(y_train, best_xgb.predict(X_train)),\n",
    "    \"Accuracy\":accuracy_score(y_test, y_predict),\n",
    "    \"AUC\":roc_auc,\n",
    "    \"F1 Score\":f1_score(y_test, y_predict),\n",
    "    \"Miss Rate\":FNR\n",
    "}\n",
    "df_summary = df_summary.append(d, ignore_index=True)\n",
    "pprint(d)"
   ]
  },
  {
   "cell_type": "code",
   "execution_count": 26,
   "id": "d13c0d0a",
   "metadata": {
    "hidden": true
   },
   "outputs": [
    {
     "name": "stdout",
     "output_type": "stream",
     "text": [
      "\n",
      "Classification Report \n",
      "\n",
      "              precision    recall  f1-score   support\n",
      "\n",
      "         0.0       1.00      0.98      0.99      1305\n",
      "         1.0       0.98      1.00      0.99      1333\n",
      "\n",
      "    accuracy                           0.99      2638\n",
      "   macro avg       0.99      0.99      0.99      2638\n",
      "weighted avg       0.99      0.99      0.99      2638\n",
      "\n",
      "\n",
      "Test Confusion Matrix\n"
     ]
    },
    {
     "data": {
      "image/png": "[encoded data removed]",
      "text/plain": [
       "<Figure size 432x288 with 2 Axes>"
      ]
     },
     "metadata": {
      "needs_background": "light"
     },
     "output_type": "display_data"
    }
   ],
   "source": [
    "print(\"\\nClassification Report \\n\")\n",
    "print(classification_report(y_test,y_predict))\n",
    "print(\"\\nTest Confusion Matrix\")\n",
    "plot_confusion_matrix(cf_matrix)"
   ]
  },
  {
   "cell_type": "markdown",
   "id": "f031ca52",
   "metadata": {
    "hidden": true
   },
   "source": [
    "#### Linear"
   ]
  },
  {
   "cell_type": "markdown",
   "id": "586592e5",
   "metadata": {
    "hidden": true
   },
   "source": [
    "Grid Search Cross Validation"
   ]
  },
  {
   "cell_type": "code",
   "execution_count": 27,
   "id": "42058f8d",
   "metadata": {
    "hidden": true
   },
   "outputs": [
    {
     "name": "stdout",
     "output_type": "stream",
     "text": [
      "The best hyperparameters from Grid Search are:\n",
      "{'C': 0.1,\n",
      " 'class_weight': 'balanced',\n",
      " 'max_iter': 5000,\n",
      " 'multi_class': 'ovr',\n",
      " 'penalty': 'none',\n",
      " 'solver': 'saga'}\n",
      "\n",
      "The mean accuracy of a model with these hyperparameters is: 0.9795\n"
     ]
    }
   ],
   "source": [
    "C = [float(x) for x in np.linspace(start = 0.1, stop = 1, num = 10)]\n",
    "multi_class = ['ovr']\n",
    "solver = ['lbfgs','newton-cg','liblinear','sag','saga']\n",
    "class_weight = ['balanced', None]\n",
    "penalty = ['l1', 'l2', 'elasticnet', 'none']\n",
    "param_grid = {\n",
    "    'C': C,\n",
    "    'multi_class': multi_class,\n",
    "    'solver': solver,\n",
    "    'class_weight': class_weight,\n",
    "    'penalty': penalty,\n",
    "    'max_iter' : [100, 1000,2500, 5000],\n",
    "}\n",
    "\n",
    "lrc = LogisticRegression(random_state=8)\n",
    "\n",
    "cv_sets = ShuffleSplit(n_splits = 3, test_size = .33, random_state = 8)\n",
    "gs_log = GridSearchCV(estimator=lrc, \n",
    "                           param_grid=param_grid,\n",
    "                           scoring='accuracy',\n",
    "                           cv=cv_sets,\n",
    "                           verbose=False)\n",
    "\n",
    "gs_log.fit(X_train, y_train)\n",
    "\n",
    "print(\"The best hyperparameters from Grid Search are:\")\n",
    "pprint(gs_log.best_params_)\n",
    "print(\"\")\n",
    "print(f\"The mean accuracy of a model with these hyperparameters is: {np.round(gs_log.best_score_,4)}\")"
   ]
  },
  {
   "cell_type": "markdown",
   "id": "0100cb26",
   "metadata": {
    "hidden": true
   },
   "source": [
    "Experiment Model"
   ]
  },
  {
   "cell_type": "code",
   "execution_count": 28,
   "id": "44350926",
   "metadata": {
    "hidden": true
   },
   "outputs": [],
   "source": [
    "best_log = gs_log.best_estimator_\n",
    "best_log.fit(X_train, y_train)\n",
    "y_predict = best_log.predict(X_test)\n",
    "y_prob = best_log.predict_proba(X_test)[:,1]"
   ]
  },
  {
   "cell_type": "markdown",
   "id": "8e7aeca0",
   "metadata": {
    "hidden": true
   },
   "source": [
    "Performance"
   ]
  },
  {
   "cell_type": "code",
   "execution_count": 29,
   "id": "9cac9809",
   "metadata": {
    "hidden": true
   },
   "outputs": [
    {
     "name": "stdout",
     "output_type": "stream",
     "text": [
      "{'AUC': 0.9986499498437827,\n",
      " 'Accuracy': 0.9859742228961335,\n",
      " 'F1 Score': 0.9861888764464352,\n",
      " 'Miss Rate': 0.009002250562640701,\n",
      " 'Model': 'LOG',\n",
      " 'Training Accuracy': 0.9879643669446551}\n"
     ]
    }
   ],
   "source": [
    "fpr, tpr, thresholds = roc_curve(y_test, y_prob)\n",
    "roc_auc = auc(fpr, tpr)\n",
    "cf_matrix = confusion_matrix(y_test, y_predict)\n",
    "FNR = 1 - recall_score(y_test, y_predict)\n",
    "d = {\n",
    "    \"Model\":\"LOG\",\n",
    "    \"Training Accuracy\":accuracy_score(y_train, best_log.predict(X_train)),\n",
    "    \"Accuracy\":accuracy_score(y_test, y_predict),\n",
    "    \"AUC\":roc_auc,\n",
    "    \"F1 Score\":f1_score(y_test, y_predict),\n",
    "    \"Miss Rate\":FNR\n",
    "}\n",
    "df_summary = df_summary.append(d, ignore_index=True)\n",
    "pprint(d)"
   ]
  },
  {
   "cell_type": "code",
   "execution_count": 30,
   "id": "0b43acdd",
   "metadata": {
    "hidden": true
   },
   "outputs": [
    {
     "name": "stdout",
     "output_type": "stream",
     "text": [
      "\n",
      "Classification Report \n",
      "\n",
      "              precision    recall  f1-score   support\n",
      "\n",
      "         0.0       0.99      0.98      0.99      1305\n",
      "         1.0       0.98      0.99      0.99      1333\n",
      "\n",
      "    accuracy                           0.99      2638\n",
      "   macro avg       0.99      0.99      0.99      2638\n",
      "weighted avg       0.99      0.99      0.99      2638\n",
      "\n",
      "\n",
      "Test Confusion Matrix\n"
     ]
    },
    {
     "data": {
      "image/png": "[encoded data removed]",
      "text/plain": [
       "<Figure size 432x288 with 2 Axes>"
      ]
     },
     "metadata": {
      "needs_background": "light"
     },
     "output_type": "display_data"
    }
   ],
   "source": [
    "print(\"\\nClassification Report \\n\")\n",
    "print(classification_report(y_test,y_predict))\n",
    "print(\"\\nTest Confusion Matrix\")\n",
    "plot_confusion_matrix(cf_matrix)"
   ]
  },
  {
   "cell_type": "markdown",
   "id": "facc6c23",
   "metadata": {},
   "source": [
    "### Summary"
   ]
  },
  {
   "cell_type": "markdown",
   "id": "bff34d01",
   "metadata": {},
   "source": [
    "#### Model choice"
   ]
  },
  {
   "cell_type": "code",
   "execution_count": 31,
   "id": "308ac00e",
   "metadata": {},
   "outputs": [
    {
     "data": {
      "text/html": [
       "<div>\n",
       "<style scoped>\n",
       "    .dataframe tbody tr th:only-of-type {\n",
       "        vertical-align: middle;\n",
       "    }\n",
       "\n",
       "    .dataframe tbody tr th {\n",
       "        vertical-align: top;\n",
       "    }\n",
       "\n",
       "    .dataframe thead th {\n",
       "        text-align: right;\n",
       "    }\n",
       "</style>\n",
       "<table border=\"1\" class=\"dataframe\">\n",
       "  <thead>\n",
       "    <tr style=\"text-align: right;\">\n",
       "      <th></th>\n",
       "      <th>Model</th>\n",
       "      <th>Training Accuracy</th>\n",
       "      <th>Accuracy</th>\n",
       "      <th>AUC</th>\n",
       "      <th>F1 Score</th>\n",
       "      <th>Miss Rate</th>\n",
       "    </tr>\n",
       "  </thead>\n",
       "  <tbody>\n",
       "    <tr>\n",
       "      <th>0</th>\n",
       "      <td>SVM</td>\n",
       "      <td>0.999147</td>\n",
       "      <td>0.990144</td>\n",
       "      <td>0.99925</td>\n",
       "      <td>0.990327</td>\n",
       "      <td>0.0015</td>\n",
       "    </tr>\n",
       "    <tr>\n",
       "      <th>1</th>\n",
       "      <td>XGB</td>\n",
       "      <td>1.0</td>\n",
       "      <td>0.988249</td>\n",
       "      <td>0.998904</td>\n",
       "      <td>0.988463</td>\n",
       "      <td>0.003751</td>\n",
       "    </tr>\n",
       "    <tr>\n",
       "      <th>2</th>\n",
       "      <td>LOG</td>\n",
       "      <td>0.987964</td>\n",
       "      <td>0.985974</td>\n",
       "      <td>0.99865</td>\n",
       "      <td>0.986189</td>\n",
       "      <td>0.009002</td>\n",
       "    </tr>\n",
       "  </tbody>\n",
       "</table>\n",
       "</div>"
      ],
      "text/plain": [
       "  Model Training Accuracy  Accuracy       AUC  F1 Score Miss Rate\n",
       "0   SVM          0.999147  0.990144   0.99925  0.990327    0.0015\n",
       "1   XGB               1.0  0.988249  0.998904  0.988463  0.003751\n",
       "2   LOG          0.987964  0.985974   0.99865  0.986189  0.009002"
      ]
     },
     "execution_count": 31,
     "metadata": {},
     "output_type": "execute_result"
    }
   ],
   "source": [
    "df_summary"
   ]
  },
  {
   "cell_type": "markdown",
   "id": "46940ec7",
   "metadata": {},
   "source": [
    "As there is less overfit for same miss rate and a better AUC, we will chose the **SVM algorithm**"
   ]
  },
  {
   "cell_type": "code",
   "execution_count": 32,
   "id": "e443f03e",
   "metadata": {},
   "outputs": [],
   "source": [
    "pickle.dump(best_svc, open(\"buffer\\svm_model.pkl\", \"wb\"))"
   ]
  },
  {
   "cell_type": "markdown",
   "id": "24ea0baa",
   "metadata": {},
   "source": [
    "#### Check on news data"
   ]
  },
  {
   "cell_type": "code",
   "execution_count": 33,
   "id": "400cd656",
   "metadata": {},
   "outputs": [],
   "source": [
    "w2v = pickle.load(open(\"buffer/word2vec.pkl\", \"rb\"))"
   ]
  },
  {
   "cell_type": "code",
   "execution_count": 34,
   "id": "2045fe7a",
   "metadata": {},
   "outputs": [],
   "source": [
    "svm = pickle.load(open(\"buffer/svm_model.pkl\", \"rb\"))"
   ]
  },
  {
   "cell_type": "code",
   "execution_count": 94,
   "id": "5d49a581",
   "metadata": {},
   "outputs": [],
   "source": [
    "df_check = pd.read_csv(r\"U:\\dev\\neg_news\\src\\data\\20220310_news.csv\").iloc[:,1:]"
   ]
  },
  {
   "cell_type": "code",
   "execution_count": 95,
   "id": "a16b82de",
   "metadata": {},
   "outputs": [
    {
     "data": {
      "application/vnd.jupyter.widget-view+json": {
       "model_id": "e06115c18e4644cd9b8f258cb5f58f74",
       "version_major": 2,
       "version_minor": 0
      },
      "text/plain": [
       "Pandas Apply:   0%|          | 0/2461 [00:00<?, ?it/s]"
      ]
     },
     "metadata": {},
     "output_type": "display_data"
    }
   ],
   "source": [
    "df_check['clean_text'] = df_check['text'].swifter.apply(lambda x: text_process(x))"
   ]
  },
  {
   "cell_type": "code",
   "execution_count": 96,
   "id": "d8ee4242",
   "metadata": {},
   "outputs": [
    {
     "data": {
      "text/html": [
       "<div>\n",
       "<style scoped>\n",
       "    .dataframe tbody tr th:only-of-type {\n",
       "        vertical-align: middle;\n",
       "    }\n",
       "\n",
       "    .dataframe tbody tr th {\n",
       "        vertical-align: top;\n",
       "    }\n",
       "\n",
       "    .dataframe thead th {\n",
       "        text-align: right;\n",
       "    }\n",
       "</style>\n",
       "<table border=\"1\" class=\"dataframe\">\n",
       "  <thead>\n",
       "    <tr style=\"text-align: right;\">\n",
       "      <th></th>\n",
       "      <th>text</th>\n",
       "      <th>clean_text</th>\n",
       "    </tr>\n",
       "  </thead>\n",
       "  <tbody>\n",
       "    <tr>\n",
       "      <th>0</th>\n",
       "      <td>He's tough on China, markets love him for now ...</td>\n",
       "      <td>tough china market love pledge shut ministry c...</td>\n",
       "    </tr>\n",
       "    <tr>\n",
       "      <th>1</th>\n",
       "      <td>Form 3 (initial statement of beneficial owners...</td>\n",
       "      <td>form initial statement beneficial ownership se...</td>\n",
       "    </tr>\n",
       "    <tr>\n",
       "      <th>2</th>\n",
       "      <td>Ifax Cites Russian Defence Ministry: Russian T...</td>\n",
       "      <td>ifax cite russian defence ministry russian tro...</td>\n",
       "    </tr>\n",
       "  </tbody>\n",
       "</table>\n",
       "</div>"
      ],
      "text/plain": [
       "                                                text  \\\n",
       "0  He's tough on China, markets love him for now ...   \n",
       "1  Form 3 (initial statement of beneficial owners...   \n",
       "2  Ifax Cites Russian Defence Ministry: Russian T...   \n",
       "\n",
       "                                          clean_text  \n",
       "0  tough china market love pledge shut ministry c...  \n",
       "1  form initial statement beneficial ownership se...  \n",
       "2  ifax cite russian defence ministry russian tro...  "
      ]
     },
     "execution_count": 96,
     "metadata": {},
     "output_type": "execute_result"
    }
   ],
   "source": [
    "df_check.head(3)"
   ]
  },
  {
   "cell_type": "code",
   "execution_count": 102,
   "id": "4e4c9296",
   "metadata": {},
   "outputs": [],
   "source": [
    "X_check_tok= [nltk.word_tokenize(i) for i in df_check['clean_text']]  \n",
    "X_check_vectors_w2v = w2v.transform(X_check_tok)\n",
    "y_check_predict = svm.predict(X_check_vectors_w2v)"
   ]
  },
  {
   "cell_type": "code",
   "execution_count": 103,
   "id": "fab9c1a0",
   "metadata": {},
   "outputs": [],
   "source": [
    "df_check[\"class\"] = y_check_predict"
   ]
  },
  {
   "cell_type": "code",
   "execution_count": 104,
   "id": "c6015387",
   "metadata": {},
   "outputs": [],
   "source": [
    "df_check[\"class\"] = np.where(df_check[\"class\"]==1, \"fraud\", \"normal\")\n",
    "df_check = df_check[df_check[\"class\"]==\"fraud\"]"
   ]
  },
  {
   "cell_type": "code",
   "execution_count": null,
   "id": "5e515aab",
   "metadata": {},
   "outputs": [],
   "source": []
  }
 ],
 "metadata": {
  "kernelspec": {
   "display_name": "Python 3 (ipykernel)",
   "language": "python",
   "name": "python3"
  },
  "language_info": {
   "codemirror_mode": {
    "name": "ipython",
    "version": 3
   },
   "file_extension": ".py",
   "mimetype": "text/x-python",
   "name": "python",
   "nbconvert_exporter": "python",
   "pygments_lexer": "ipython3",
   "version": "3.9.10"
  },
  "toc": {
   "base_numbering": 1,
   "nav_menu": {},
   "number_sections": false,
   "sideBar": true,
   "skip_h1_title": false,
   "title_cell": "Table of Contents",
   "title_sidebar": "Contents",
   "toc_cell": false,
   "toc_position": {
    "height": "calc(100% - 180px)",
    "left": "10px",
    "top": "150px",
    "width": "284.444px"
   },
   "toc_section_display": true,
   "toc_window_display": false
  }
 },
 "nbformat": 4,
 "nbformat_minor": 5
}
